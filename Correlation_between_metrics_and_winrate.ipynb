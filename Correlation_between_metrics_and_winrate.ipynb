{
 "cells": [
  {
   "cell_type": "markdown",
   "id": "569360ed-be7a-49fb-a285-2fabc710228f",
   "metadata": {},
   "source": [
    "## performing data analysis using the NBA API to examine correlations and calculate various statistics related to team and player performance."
   ]
  },
  {
   "cell_type": "markdown",
   "id": "662e60f9-af69-495f-b80f-d0684721f070",
   "metadata": {},
   "source": [
    "### Correlation between Win Percentage and Player's Points:\n",
    "\n",
    "Data Needed: Team win/loss records, player statistics (points per game).\n",
    "Analysis: Calculate the correlation coefficient (e.g., using Pearson's correlation) between a team's win percentage and the average points per game scored by their key players. This analysis can help identify how influential a player's scoring is on the team's success.\n",
    "\n",
    "### Percentage of Points Scored by a Player:\n",
    "\n",
    "Data Needed: Game statistics (points scored by each player), team total points scored.\n",
    "Analysis: For a specific player or a group of players, calculate the percentage of total points scored by that player(s) in a game or over a season. This can provide insights into the offensive contribution of individual players to their team's overall scoring.\n",
    "These analyses can help you understand the relationship between player performance and team success, which can be valuable for making data-driven decisions, such as optimizing player rotations, evaluating player contracts, or predicting team performance in upcoming games or seasons."
   ]
  },
  {
   "cell_type": "markdown",
   "id": "f33b8155-fc61-46c5-a561-6aca36326e70",
   "metadata": {},
   "source": [
    "#### initial plan - work with one year of games from GSW or any team, analyse each player's (most if not all) points scored as well as percentage of team's points for that game, then correlate it with winrate somehow."
   ]
  },
  {
   "cell_type": "code",
   "execution_count": null,
   "id": "c0d974b1-7131-452f-9e1b-da97c6b900a4",
   "metadata": {},
   "outputs": [],
   "source": []
  }
 ],
 "metadata": {
  "kernelspec": {
   "display_name": "Python 3 (ipykernel)",
   "language": "python",
   "name": "python3"
  },
  "language_info": {
   "codemirror_mode": {
    "name": "ipython",
    "version": 3
   },
   "file_extension": ".py",
   "mimetype": "text/x-python",
   "name": "python",
   "nbconvert_exporter": "python",
   "pygments_lexer": "ipython3",
   "version": "3.10.7"
  }
 },
 "nbformat": 4,
 "nbformat_minor": 5
}
